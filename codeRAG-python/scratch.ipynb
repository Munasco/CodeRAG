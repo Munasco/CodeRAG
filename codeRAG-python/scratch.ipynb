{
 "cells": [
  {
   "cell_type": "code",
   "execution_count": null,
   "metadata": {},
   "outputs": [],
   "source": [
    "# some_embedding_library.py\n",
    "import openai\n",
    "from config import OPENAI_API_KEY\n",
    "\n",
    "openai.api_key = OPENAI_API_KEY\n",
    "\n",
    "\n",
    "def get_embedding(text):\n",
    "    response = openai.Embedding.create(\n",
    "        input=text, model=\"text-embedding-ada-002\"  # Or another appropriate model\n",
    "    )\n",
    "    return response[\"data\"][0][\"embedding\"]"
   ]
  }
 ],
 "metadata": {
  "kernelspec": {
   "display_name": "Python 3",
   "language": "python",
   "name": "python3"
  },
  "language_info": {
   "name": "python",
   "version": "3.11.0"
  }
 },
 "nbformat": 4,
 "nbformat_minor": 2
}
